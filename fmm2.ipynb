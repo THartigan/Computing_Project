{
 "cells": [
  {
   "cell_type": "markdown",
   "metadata": {},
   "source": [
    "# Fast Multipole Method 2 - From Greengard and Rokhlin (1997)\n",
    "## Upwards Pass Initialisation\n",
    "- The number of refinement levels $n\\approx \\log_8 N$.\n",
    "- Order of multipole expansion desired is $p$.\n",
    "- Number of boxes at the finest level is then $8^n$\n",
    "- Number of particles per box is $s=N/8^n$"
   ]
  },
  {
   "cell_type": "code",
   "execution_count": 6,
   "metadata": {},
   "outputs": [],
   "source": [
    "class Box():\n",
    "    def __init__(self, parent) -> None:\n",
    "        self.parent = parent\n",
    "        self.children = []"
   ]
  }
 ],
 "metadata": {
  "kernelspec": {
   "display_name": ".computing_project_venv",
   "language": "python",
   "name": "python3"
  },
  "language_info": {
   "codemirror_mode": {
    "name": "ipython",
    "version": 3
   },
   "file_extension": ".py",
   "mimetype": "text/x-python",
   "name": "python",
   "nbconvert_exporter": "python",
   "pygments_lexer": "ipython3",
   "version": "3.11.5"
  }
 },
 "nbformat": 4,
 "nbformat_minor": 2
}
