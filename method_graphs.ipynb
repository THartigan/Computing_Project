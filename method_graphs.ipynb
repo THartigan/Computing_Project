{
 "cells": [
  {
   "cell_type": "markdown",
   "metadata": {},
   "source": [
    "# Testing With a Single Particle at the Centre of the Computation Box for Varying Expected Precisions"
   ]
  },
  {
   "cell_type": "code",
   "execution_count": null,
   "metadata": {},
   "outputs": [],
   "source": [
    "import numpy as np\n",
    "import matplotlib.pyplot as plt\n",
    "from modules.Particle import Particle\n",
    "from modules.Direct_Classes import Direct\n",
    "from modules.FMM_Classes import FMM\n",
    "from modules.Analytic_Classes import SingleParticle\n",
    "%load_ext autoreload\n",
    "%autoreload 2\n",
    "from modules.testing import PointTesting\n",
    "import copy\n",
    "import modules.Utility as util\n",
    "\n",
    "\n",
    "# Create particle distribution to be used in all simulations\n",
    "#np.random.seed(100)\n",
    "n_particles = 1000\n",
    "max_property = 0 # property could be mass or charge \n",
    "box_size = 1000\n",
    "\n",
    "# Generate initial particles\n",
    "#initial_positions = np.random.beta(2,2,(n_particles,2)) * box_size\n",
    "initial_positions=[]\n",
    "line_n = int(np.sqrt(n_particles))\n",
    "start_inset = box_size/(line_n+1)\n",
    "for x in np.linspace(start_inset, box_size - start_inset, line_n, True):\n",
    "    for y in np.linspace(start_inset, box_size - start_inset, line_n, True):\n",
    "        initial_positions.append(np.array([x, y])) \n",
    "initial_positions = np.array(initial_positions)\n",
    "print(initial_positions)\n",
    "#initial_positions = np.random.uniform(0,1,(n_particles,2)) * box_size\n",
    "\n",
    "initial_particles = []\n",
    "for initial_position in initial_positions:\n",
    "    initial_particles.append(Particle(initial_position, np.random.uniform(0,max_property)))\n",
    "point = 620\n",
    "charge = 1\n",
    "initial_particles.append(Particle(np.array([point,point]), charge))"
   ]
  }
 ],
 "metadata": {
  "language_info": {
   "name": "python"
  }
 },
 "nbformat": 4,
 "nbformat_minor": 2
}
