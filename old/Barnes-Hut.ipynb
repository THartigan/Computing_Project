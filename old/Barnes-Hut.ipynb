{
 "cells": [
  {
   "cell_type": "markdown",
   "metadata": {},
   "source": [
    "# Barnes-Hut Method for N-body Simulation\n"
   ]
  },
  {
   "cell_type": "code",
   "execution_count": 35,
   "metadata": {},
   "outputs": [],
   "source": [
    "import numpy as np\n",
    "\n",
    "all_boxes = []\n",
    "box_tracker = [[]]\n",
    "G = 1\n",
    "\n",
    "class Box():\n",
    "    def __init__(self, parent, centre, size, particles = [], depth = 0) -> None:\n",
    "        \"\"\"Initialises a new Box object\n",
    "        parent: Box - The parent of the box, ie which box was subdivided to construct this one\n",
    "        centre: [Float] - The coordinate position of the centre of the box\n",
    "        size: Float - The distance between parallel sides of the box\n",
    "        particles: [Particle] A list of the particles contained within that box\"\"\"\n",
    "        self.parent = parent\n",
    "        self.children = []\n",
    "        self.centre = centre\n",
    "        self.size = size\n",
    "        self.particles = particles\n",
    "        self.unpartitioned = True\n",
    "        self.depth = depth\n",
    "        all_boxes.append(self)\n",
    "        if depth+1 > len(box_tracker):\n",
    "            box_tracker.append([])\n",
    "        #print(depth)\n",
    "        box_tracker[depth].append(self)\n",
    "\n",
    "    \n",
    "    def load_particle(self, particle):\n",
    "        self.particles.append(particle)\n",
    "        #print(self)\n",
    "        #print(self.particles)\n",
    "        if len(self.particles) > 1:\n",
    "            if self.children == []:\n",
    "                self.division_cell()\n",
    "            else:\n",
    "                self.place_particle(particle)\n",
    "                \n",
    "    def division_cell(self):\n",
    "        #print(f\"Splitting depth {self.depth} box\")\n",
    "        self.unpartitioned = False\n",
    "        new_size = self.size / 2\n",
    "\n",
    "        new_centres = []\n",
    "        centre_alterations = [new_size / 2, -new_size / 2]\n",
    "        for x_centre_alteration in centre_alterations:\n",
    "            for y_centre_alteration in centre_alterations:\n",
    "                for z_centre_alteration in centre_alterations:\n",
    "                    new_centres.append(np.array([self.centre[0] + x_centre_alteration, self.centre[1] + y_centre_alteration, self.centre[2] + z_centre_alteration]))\n",
    "\n",
    "        for new_centre in new_centres:\n",
    "            new_box = Box(self, new_centre, new_size, particles=[], depth=self.depth+1)\n",
    "            self.children.append(new_box)\n",
    "            #all_boxes.append(new_box)\n",
    "\n",
    "        for particle in self.particles:\n",
    "            self.place_particle(particle)\n",
    "\n",
    "    def place_particle(self, particle):\n",
    "        particle_map = \"\".join(np.where(particle.position > self.centre, \"1\", \"0\"))\n",
    "        particle_to_box_dict = {\"111\" : 0,\n",
    "                                \"110\" : 1,\n",
    "                                \"101\" : 2,\n",
    "                                \"100\" : 3,\n",
    "                                \"011\" : 4,\n",
    "                                \"010\" : 5,\n",
    "                                \"001\" : 6,\n",
    "                                \"000\" : 7}\n",
    "        placement_box = particle_to_box_dict[particle_map]\n",
    "        #print(f\"adding {particle} to box {placement_box}\")\n",
    "        self.children[placement_box].load_particle(particle)\n",
    "    \n",
    "    def find_acceleration_for(self, particle, theta):\n",
    "        # If this box has a single particle, which is not the subject particle itself, then add the force form this box\n",
    "        if len(self.particles) == 1 and self.particles != []:\n",
    "            if self.particles[0] != particle:\n",
    "                delta_acc = newton_acceleration(self, particle)\n",
    "                particle.acceleration += delta_acc\n",
    "        # If this box contains multiple particles and is far away, then apprxomiate this group at its COM\n",
    "        elif self.size / distance(self, particle) < theta:\n",
    "            delta_acc = newton_acceleration(self, particle)\n",
    "            particle.acceleration += delta_acc\n",
    "        # Else, the box contains many nearby particles and higher precision is required, so analyse children\n",
    "        else:\n",
    "            for child in self.children:\n",
    "                child.find_acceleration_for(particle, theta)\n",
    "\n",
    "class Particle():\n",
    "    def __init__(self, position, mass) -> None:\n",
    "        self.position = position\n",
    "        self.mass = mass\n",
    "        self.acceleration = np.array([0.,0.,0.])\n",
    "        self.velocity = np.array([0.,0.,0.])\n",
    "\n",
    "def distance(box: Box, particle: Particle):\n",
    "    #print(particle.position)\n",
    "    #print(box.com_position)\n",
    "    return np.linalg.norm(particle.position - box.com_position)\n",
    "\n",
    "def newton_acceleration(box: Box, particle: Particle):\n",
    "    direction = (box.com_position - particle.position)/np.linalg.norm(box.com_position - particle.position)\n",
    "    return G * box.mass / (distance(box, particle) ** 2) * direction\n",
    "\n",
    "\n"
   ]
  },
  {
   "cell_type": "code",
   "execution_count": 36,
   "metadata": {},
   "outputs": [
    {
     "name": "stdout",
     "output_type": "stream",
     "text": [
      "btracker: 1\n",
      "389841\n",
      "13\n"
     ]
    }
   ],
   "source": [
    "\n",
    "n_particles = 100000\n",
    "max_mass = 10\n",
    "box_size = 1000\n",
    "theta=0.5\n",
    "initial_positions = np.random.random((n_particles,3)) * box_size\n",
    "initial_particles = []\n",
    "for initial_position in initial_positions:\n",
    "    initial_particles.append(Particle(initial_position, np.random.uniform(0,max_mass)))\n",
    "\n",
    "root_cell = Box(None, np.array([0.5,0.5,0.5])*box_size, box_size)\n",
    "#all_boxes.append(root_cell)\n",
    "#box_tracker.append([root_cell])\n",
    "print(f\"btracker: {len(box_tracker)}\")\n",
    "for i, initial_particle in enumerate(initial_particles):\n",
    "    #print(i)\n",
    "    #print(initial_particle.position)\n",
    "    root_cell.load_particle(initial_particle)\n",
    "\n",
    "print(len(all_boxes))\n",
    "#print(box_tracker)\n",
    "print(len(box_tracker))\n",
    "\n"
   ]
  },
  {
   "cell_type": "code",
   "execution_count": 37,
   "metadata": {},
   "outputs": [
    {
     "name": "stdout",
     "output_type": "stream",
     "text": [
      "341111\n",
      "16\n",
      "56\n",
      "320\n",
      "2432\n",
      "18080\n",
      "118944\n",
      "212544\n",
      "32768\n",
      "4096\n",
      "512\n",
      "64\n",
      "8\n",
      "1\n",
      "[498.16327758 498.12868986 499.69493345]\n",
      "1568\n"
     ]
    }
   ],
   "source": [
    "deepest_boxes_map = np.array([box.unpartitioned for box in all_boxes])\n",
    "deepest_boxes = np.array(all_boxes)[deepest_boxes_map]\n",
    "print(len(deepest_boxes))\n",
    "\n",
    "for tracker_slice in reversed(box_tracker):\n",
    "    print(len(tracker_slice))\n",
    "    for box in tracker_slice:\n",
    "        if box.unpartitioned:\n",
    "            if box.particles == []:\n",
    "                box.mass = 0\n",
    "                box.com_position = box.centre\n",
    "            else:\n",
    "                box.mass = box.particles[0].mass\n",
    "                box.com_position = box.particles[0].position\n",
    "        else:\n",
    "            total_mass = 0\n",
    "            position_unnormalised = np.array([0.,0.,0.])\n",
    "            for child_box in box.children:\n",
    "                total_mass += child_box.mass\n",
    "                position_unnormalised += child_box.mass * child_box.com_position\n",
    "            box.com_position = position_unnormalised / total_mass\n",
    "            box.mass = total_mass\n",
    "                \n",
    "print(box_tracker[0][0].com_position)\n",
    "\n",
    "            \n",
    "\n",
    "print(len(box_tracker[2][0].particles))"
   ]
  },
  {
   "cell_type": "code",
   "execution_count": 38,
   "metadata": {},
   "outputs": [
    {
     "ename": "KeyboardInterrupt",
     "evalue": "",
     "output_type": "error",
     "traceback": [
      "\u001b[0;31m---------------------------------------------------------------------------\u001b[0m",
      "\u001b[0;31mKeyboardInterrupt\u001b[0m                         Traceback (most recent call last)",
      "Cell \u001b[0;32mIn[38], line 3\u001b[0m\n\u001b[1;32m      1\u001b[0m \u001b[38;5;28;01mfor\u001b[39;00m particle \u001b[38;5;129;01min\u001b[39;00m root_cell\u001b[38;5;241m.\u001b[39mparticles:\n\u001b[1;32m      2\u001b[0m     \u001b[38;5;66;03m#print(f\"new particle {particle}\")\u001b[39;00m\n\u001b[0;32m----> 3\u001b[0m     \u001b[43mroot_cell\u001b[49m\u001b[38;5;241;43m.\u001b[39;49m\u001b[43mfind_acceleration_for\u001b[49m\u001b[43m(\u001b[49m\u001b[43mparticle\u001b[49m\u001b[43m,\u001b[49m\u001b[43m \u001b[49m\u001b[43mtheta\u001b[49m\u001b[43m)\u001b[49m\n\u001b[1;32m      4\u001b[0m     \u001b[38;5;66;03m#print(particle.acceleration)\u001b[39;00m\n\u001b[1;32m      5\u001b[0m \n\u001b[1;32m      6\u001b[0m \u001b[38;5;66;03m#print(newton_acceleration(root_cell, root_cell.particles[0]))\u001b[39;00m\n",
      "Cell \u001b[0;32mIn[35], line 85\u001b[0m, in \u001b[0;36mBox.find_acceleration_for\u001b[0;34m(self, particle, theta)\u001b[0m\n\u001b[1;32m     82\u001b[0m \u001b[38;5;66;03m# Else, the box contains many nearby particles and higher precision is required, so analyse children\u001b[39;00m\n\u001b[1;32m     83\u001b[0m \u001b[38;5;28;01melse\u001b[39;00m:\n\u001b[1;32m     84\u001b[0m     \u001b[38;5;28;01mfor\u001b[39;00m child \u001b[38;5;129;01min\u001b[39;00m \u001b[38;5;28mself\u001b[39m\u001b[38;5;241m.\u001b[39mchildren:\n\u001b[0;32m---> 85\u001b[0m         \u001b[43mchild\u001b[49m\u001b[38;5;241;43m.\u001b[39;49m\u001b[43mfind_acceleration_for\u001b[49m\u001b[43m(\u001b[49m\u001b[43mparticle\u001b[49m\u001b[43m,\u001b[49m\u001b[43m \u001b[49m\u001b[43mtheta\u001b[49m\u001b[43m)\u001b[49m\n",
      "Cell \u001b[0;32mIn[35], line 85\u001b[0m, in \u001b[0;36mBox.find_acceleration_for\u001b[0;34m(self, particle, theta)\u001b[0m\n\u001b[1;32m     82\u001b[0m \u001b[38;5;66;03m# Else, the box contains many nearby particles and higher precision is required, so analyse children\u001b[39;00m\n\u001b[1;32m     83\u001b[0m \u001b[38;5;28;01melse\u001b[39;00m:\n\u001b[1;32m     84\u001b[0m     \u001b[38;5;28;01mfor\u001b[39;00m child \u001b[38;5;129;01min\u001b[39;00m \u001b[38;5;28mself\u001b[39m\u001b[38;5;241m.\u001b[39mchildren:\n\u001b[0;32m---> 85\u001b[0m         \u001b[43mchild\u001b[49m\u001b[38;5;241;43m.\u001b[39;49m\u001b[43mfind_acceleration_for\u001b[49m\u001b[43m(\u001b[49m\u001b[43mparticle\u001b[49m\u001b[43m,\u001b[49m\u001b[43m \u001b[49m\u001b[43mtheta\u001b[49m\u001b[43m)\u001b[49m\n",
      "    \u001b[0;31m[... skipping similar frames: Box.find_acceleration_for at line 85 (2 times)]\u001b[0m\n",
      "Cell \u001b[0;32mIn[35], line 85\u001b[0m, in \u001b[0;36mBox.find_acceleration_for\u001b[0;34m(self, particle, theta)\u001b[0m\n\u001b[1;32m     82\u001b[0m \u001b[38;5;66;03m# Else, the box contains many nearby particles and higher precision is required, so analyse children\u001b[39;00m\n\u001b[1;32m     83\u001b[0m \u001b[38;5;28;01melse\u001b[39;00m:\n\u001b[1;32m     84\u001b[0m     \u001b[38;5;28;01mfor\u001b[39;00m child \u001b[38;5;129;01min\u001b[39;00m \u001b[38;5;28mself\u001b[39m\u001b[38;5;241m.\u001b[39mchildren:\n\u001b[0;32m---> 85\u001b[0m         child\u001b[38;5;241m.\u001b[39mfind_acceleration_for(particle, theta)\n",
      "\u001b[0;31mKeyboardInterrupt\u001b[0m: "
     ]
    }
   ],
   "source": [
    "for particle in root_cell.particles:\n",
    "    #print(f\"new particle {particle}\")\n",
    "    root_cell.find_acceleration_for(particle, theta)\n",
    "    #print(particle.acceleration)\n",
    "\n",
    "#print(newton_acceleration(root_cell, root_cell.particles[0]))"
   ]
  },
  {
   "cell_type": "code",
   "execution_count": null,
   "metadata": {},
   "outputs": [
    {
     "name": "stdout",
     "output_type": "stream",
     "text": [
      "[-0.0078235  -0.04259836 -0.00590047]\n"
     ]
    }
   ],
   "source": [
    "print(root_cell.particles[0].acceleration)"
   ]
  }
 ],
 "metadata": {
  "kernelspec": {
   "display_name": ".computing_project_venv",
   "language": "python",
   "name": "python3"
  },
  "language_info": {
   "codemirror_mode": {
    "name": "ipython",
    "version": 3
   },
   "file_extension": ".py",
   "mimetype": "text/x-python",
   "name": "python",
   "nbconvert_exporter": "python",
   "pygments_lexer": "ipython3",
   "version": "3.11.5"
  }
 },
 "nbformat": 4,
 "nbformat_minor": 2
}
